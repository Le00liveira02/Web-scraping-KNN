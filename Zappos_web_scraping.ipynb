{
  "nbformat": 4,
  "nbformat_minor": 0,
  "metadata": {
    "colab": {
      "name": "Zappos web scraping.ipynb",
      "provenance": [],
      "authorship_tag": "ABX9TyNMXnhz3r+ru3IRiEXOc2ca",
      "include_colab_link": true
    },
    "kernelspec": {
      "name": "python3",
      "display_name": "Python 3"
    },
    "language_info": {
      "name": "python"
    }
  },
  "cells": [
    {
      "cell_type": "markdown",
      "metadata": {
        "id": "view-in-github",
        "colab_type": "text"
      },
      "source": [
        "<a href=\"https://colab.research.google.com/github/Le00liveira02/Web-scraping-KNN/blob/main/Zappos_web_scraping.ipynb\" target=\"_parent\"><img src=\"https://colab.research.google.com/assets/colab-badge.svg\" alt=\"Open In Colab\"/></a>"
      ]
    },
    {
      "cell_type": "code",
      "metadata": {
        "id": "hm1pm49kCQdx"
      },
      "source": [
        "import requests\n",
        "from bs4 import BeautifulSoup\n",
        "import pandas as pd\n",
        "import time\n",
        "from sklearn.cluster import KMeans\n",
        "import matplotlib.pyplot as plt\n"
      ],
      "execution_count": null,
      "outputs": []
    },
    {
      "cell_type": "markdown",
      "metadata": {
        "id": "QXJCq6Qg7nMD"
      },
      "source": [
        "#Web Scraper"
      ]
    },
    {
      "cell_type": "code",
      "metadata": {
        "id": "neFuBKZPGMxd"
      },
      "source": [
        "resultados=[]\n",
        "pgs=50\n",
        "categorias=['women-boots-shoes','women-sneakers-athletic-shoes','women-sandals-shoes','women-heels-shoes','women-flats-shoes','women-comfort-shoes','men-boots-shoes','men-sneakers-athletic-shoes','men-sandals-shoes','men-sneakers-athletic-shoes','men-oxfords-shoes']\n",
        "\n",
        "\n",
        "\n",
        "for cat in categorias:\n",
        "\n",
        "   for pg in range(pgs):\n",
        "      pagina='https://www.zappos.com/'+ cat +'/.zso?t='+cat+'&p='+ str(pg)\n",
        "      response=requests.get(pagina)\n",
        "      site=BeautifulSoup(response.text,'html.parser')\n",
        "      produtos=site.findAll('article',attrs={'class':'tD-z'})\n",
        "              \n",
        "\n",
        "      for produto in produtos:\n",
        "\n",
        "          marca=produto.find('dd',attrs={'class':'WC-z'})\n",
        "          modelo=produto.find('dd',attrs={'class':'XC-z'})\n",
        "          cor=produto.find('dd',attrs={'class':'YC-z'})\n",
        "          preco=produto.find('span',attrs={'class':'UD-z'})\n",
        "          estrelas=produto.find('span',attrs={'class':'yl-z'})\n",
        "          votos=produto.find('span',attrs={'class':'zl-z'})\n",
        "          #imagem=produto.find('img',attrs={'class':'kS-z Ri-z'}) #imagem['src']\n",
        "          #imagem2=produto.find('img',attrs={'class':'kS-z Ri-z Si-z'})\n",
        "\n",
        "  \n",
        "\n",
        "          if (estrelas):\n",
        "            resultados.append([marca.text, modelo.text, cor.text, preco['content'], estrelas.text, votos.text, cat, pagina])\n",
        "          else:\n",
        "            resultados.append([marca.text, modelo.text, cor.text, preco['content'], \"Não Classificado\", 'Sem votos', cat, pagina])\n",
        "\n",
        "\n",
        "\n"
      ],
      "execution_count": null,
      "outputs": []
    },
    {
      "cell_type": "markdown",
      "metadata": {
        "id": "0nH3ppN3mEaw"
      },
      "source": [
        "Montando o Data Frame"
      ]
    },
    {
      "cell_type": "code",
      "metadata": {
        "id": "R4373R3yvGLQ"
      },
      "source": [
        "df=pd.DataFrame(resultados,columns=['Marca','Modelo','cor','Preco','Estrelas','Votos', 'Categoria','Link da pagina'])"
      ],
      "execution_count": null,
      "outputs": []
    },
    {
      "cell_type": "markdown",
      "metadata": {
        "id": "Xc06TUYfmNM5"
      },
      "source": [
        "Limpando os dados"
      ]
    },
    {
      "cell_type": "code",
      "metadata": {
        "id": "svBx17CB8lQ4"
      },
      "source": [
        "df['Votos'] = df['Votos'].apply(lambda x:x.replace(\"(\",\"\"))\n",
        "df['Votos'] = df['Votos'].apply(lambda x:x.replace(\")\",\"\"))\n",
        "df['Excluir']=df['Modelo'].apply(lambda x:\"Jibbitz\" in x)#Jibbitz são enfeites para marca Crocs\n",
        "df=df.drop(df[df['Excluir']==True].index)\n",
        "df=df.drop(columns='Excluir')"
      ],
      "execution_count": null,
      "outputs": []
    },
    {
      "cell_type": "markdown",
      "metadata": {
        "id": "R7WOGs1B7vKi"
      },
      "source": [
        "#Knn"
      ]
    },
    {
      "cell_type": "code",
      "metadata": {
        "id": "pkljY5ZOHJ9o"
      },
      "source": [
        "from sklearn.neighbors import NearestNeighbors\n",
        "from sklearn.preprocessing import MinMaxScaler\n",
        "\n",
        "#Calculo da média de preço por categoria\n",
        "med_preco=df.groupby(['Marca','Categoria']).agg(preco_mean=('Preco','mean')).reset_index()\n",
        "med_preco=pd.pivot_table(med_preco, values='preco_mean', index='Marca',columns=['Categoria'],fill_value=0)\n",
        "\n",
        "#Calculo da média de estrelas por categoria\n",
        "med_est=df.drop(df[df['Estrelas']=='Não Classificado'].index)\n",
        "med_est['Estrelas']=med_est['Estrelas'].astype('float')\n",
        "med_est=med_est.groupby(['Marca','Categoria']).agg({'Estrelas':['mean']}).reset_index()\n",
        "med_est = pd.pivot_table(med_est, values='Estrelas', index='Marca',columns=['Categoria'],fill_value=0)\n",
        "\n",
        "#Unificando os calculos\n",
        "df=df[['Marca']].drop_duplicates()\n",
        "df=pd.merge(df,med_preco,on='Marca',how='left')\n",
        "df=pd.merge(df,med_est,on='Marca',how='left')\n",
        "\n",
        "df=df.fillna(0)"
      ],
      "execution_count": null,
      "outputs": []
    },
    {
      "cell_type": "code",
      "metadata": {
        "id": "4oOsqeyINroQ"
      },
      "source": [
        "#Guardando index e setando a marca como index\n",
        "f_knn_index=df['Marca']\n",
        "df=df.set_index('Marca')\n",
        "\n",
        "#Normalizando os dados devido a diferença de escala ente votos e preço\n",
        "normalizar=MinMaxScaler(feature_range=(0,1))\n",
        "df_knn= normalizar.fit_transform(df)  \n",
        "            \n",
        "df_knn=pd.DataFrame(df_knn,index=df_knn_index)"
      ],
      "execution_count": null,
      "outputs": []
    },
    {
      "cell_type": "code",
      "metadata": {
        "id": "F3ljNvS1Qsjc"
      },
      "source": [
        "#KNN\n",
        "modelo_knn = NearestNeighbors(metric='cosine')\n",
        "modelo_knn.fit(df_knn)"
      ],
      "execution_count": null,
      "outputs": []
    },
    {
      "cell_type": "code",
      "metadata": {
        "id": "s0JAUTcguiyp"
      },
      "source": [
        "#Estrutura para gerar csv com as recomendações\n",
        "df_net=pd.DataFrame()\n",
        "marcas=df_knn_index.tolist()\n",
        "\n",
        "for marca in marcas:\n",
        "  distancia,vizinhos=modelo_knn.kneighbors(df_knn.loc[[marca]],n_neighbors=6)\n",
        "  dist=distancia.tolist()[0]\n",
        "  vizinhos=vizinhos.tolist()[0]\n",
        "  vizinhos=df_knn.iloc[vizinhos[0:6]].index.to_list()\n",
        "\n",
        "  b={'Marca':marca,'vizinho':vizinhos,'dist':dist}\n",
        "  s=pd.DataFrame.from_dict(b)\n",
        "\n",
        "  df_net=df_net.append(s, ignore_index=True)"
      ],
      "execution_count": null,
      "outputs": []
    },
    {
      "cell_type": "code",
      "metadata": {
        "id": "lrPUtQvP1Juj"
      },
      "source": [
        "df_net.to_csv('net.csv',sep=',')"
      ],
      "execution_count": null,
      "outputs": []
    }
  ]
}